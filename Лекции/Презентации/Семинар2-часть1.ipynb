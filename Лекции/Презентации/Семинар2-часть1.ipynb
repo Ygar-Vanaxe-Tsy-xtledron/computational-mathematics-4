{
 "cells": [
  {
   "cell_type": "markdown",
   "metadata": {},
   "source": [
    "# Вычислительная линейная алгебра\n",
    "\n",
    "Рассмотрим СЛАУ\n",
    "\n",
    "$$ Ax = b, $$\n",
    "$$ A =\n",
    "\\begin{bmatrix}\n",
    "    a_{11} & a_{12} & \\dots & a_{1n} \\\\\n",
    "    a_{21} & a_{22} & \\dots & a_{2n} \\\\\n",
    "    \\vdots & \\vdots & \\ddots & \\vdots \\\\\n",
    "    a_{n1} & a_{n2} & \\dots & a_{nn}\n",
    "\\end{bmatrix}, \\;\n",
    "detA \\neq 0, \\quad\n",
    "x =\n",
    "\\begin{bmatrix}\n",
    "    x_1 \\\\ \\vdots \\\\ x_n\n",
    "\\end{bmatrix}, \\quad\n",
    "b =\n",
    "\\begin{bmatrix}\n",
    "    b_1 \\\\ \\vdots \\\\ b_n\n",
    "\\end{bmatrix}.\n",
    "$$"
   ]
  },
  {
   "cell_type": "markdown",
   "metadata": {},
   "source": [
    "## Методы решения\n",
    "- Прямые методы\n",
    "- Итерационные методы"
   ]
  },
  {
   "cell_type": "markdown",
   "metadata": {},
   "source": [
    "## Векторные нормированные пространства\n",
    "\n",
    "> Как оценить погрешность вычисления $x$?\n",
    "\n",
    "$ x \\in \\R^{n}, \\; \\| x \\| \\rightarrow \\R^+ $\n",
    "- $ \\| x \\| = 0 \\Leftrightarrow x = 0 $\n",
    "\n",
    "- $ \\| \\alpha x \\| = |\\alpha|\\| x \\| , \\; \\forall \\alpha \\in \\R $\n",
    "\n",
    "- $ \\| x + y \\| \\leq \\| x \\| + \\| y \\|\\; $ (неравенство треугольника)"
   ]
  },
  {
   "cell_type": "markdown",
   "metadata": {},
   "source": [
    "### p - нормы\n",
    "\n",
    "$$  \\| x \\|_p = \\left( \\sum_{i=1}^{n} |x_i|^p \\right)^{1/p} $$\n",
    "\n",
    "При $p\\rightarrow\\infty$, Кубическая $$ \\| x \\|_\\infty = \\max_{i}|x_i| $$\n",
    "L1, Manhattan, Октаэдрическая\n",
    "$$  \\| x \\|_1 = \\sum_{i=1}^{n} |x_i| $$\n",
    "L2, Эвклидова\n",
    "$$  \\| x \\|_2 = \\sqrt{\\sum_{i=1}^{n} |x_i|^2}$$"
   ]
  },
  {
   "cell_type": "markdown",
   "metadata": {},
   "source": [
    "## Эквивалентность норм\n",
    "\n",
    "**Определение**\n",
    "\n",
    "Нормы $\\|\\cdot\\|_a$ и $\\|\\cdot\\|_b$ называются *эквивалентными*, если $\\exist \\gamma_1, \\; \\gamma_2$:\n",
    "$$ \\forall x \\in \\R^n \\;\\; \\gamma_1\\|x\\|_a \\leq \\|x\\|_b \\leq \\gamma_2\\|x\\|_a $$\n",
    "\n",
    "**Теорема** (Об эквивалентности норм)\n",
    "\n",
    "Любые две нормы в конечномерном векторном пространстве эквиваленты."
   ]
  },
  {
   "cell_type": "markdown",
   "metadata": {},
   "source": [
    "В силу теоремы об эквивалентности норм все утверждения теорем\n",
    "верны для любых норм, поэтому далее выбор нормы не конкретизируется. "
   ]
  },
  {
   "cell_type": "markdown",
   "metadata": {},
   "source": [
    "## Матричные нормы\n",
    "\n",
    "$ A \\in \\R^{m \\times n}, \\; \\| A \\| \\rightarrow \\R^+ $\n",
    "- $ \\| A \\| = 0 \\Leftrightarrow x = \\bold{0} $\n",
    "\n",
    "- $ \\| \\alpha A \\| = |\\alpha|\\| A \\| , \\; \\forall \\alpha \\in \\R $\n",
    "\n",
    "- $ \\| A + B \\| \\leq \\| A \\| + \\| B \\|\\; $\n",
    "\n",
    "- $ \\| A B \\| \\leq \\| A \\| \\| B \\|\\; $ (субмультипликативность)"
   ]
  },
  {
   "cell_type": "markdown",
   "metadata": {},
   "source": [
    "#### Матричная норма подчиненная норме вектора\n",
    "\n",
    "$$ \\| A \\| = \\sup_{x \\neq 0} \\frac{\\|Ax\\|}{\\|x\\|} $$\n",
    "\n",
    "Примеры\n",
    "\n",
    "$$  \\| A \\|_{\\infty} = \\max_{1\\leq i \\leq m} \\sum_{j=1}^{n} |a_{ij}| $$\n",
    "$$  \\| A \\|_1 = \\max_{1\\leq j \\leq n} \\sum_{i=1}^{m} |a_{ij}| $$\n",
    "$$  \\| A \\|_2 = \\sqrt{\\lambda_{max}(A^*A)} $$"
   ]
  },
  {
   "cell_type": "markdown",
   "metadata": {},
   "source": [
    "## Обусловленность СЛАУ\n",
    "\n",
    "Система $Ax=b$ при ее решении на компьютере представляется как\n",
    "\n",
    "$$ (A + \\Delta A)(x + \\Delta x) = b + \\Delta b $$ \n",
    "\n",
    "**Теорема**\n",
    "\n",
    "Пусть правая часть $b$ и матрица $A$ СЛАУ $Ax=b$ получили приращения $\\Delta b$ и $\\Delta A$. При этом существует $A^{-1}$ и $\\|A\\| \\neq 0$, $\\mu \\frac{\\|\\Delta A\\|}{\\|A\\|} \\neq 1$ $\\;\\left( \\mu =\\|A\\|\\|A^{-1}\\| \\right)$.\n",
    "\n",
    "В таком случае относительная погрешность решения будет удовлетворять неравенству:\n",
    "$$ \\frac{\\|\\Delta x\\|}{\\|x\\|} \\leq \\frac{\\mu}{1-\\mu\\frac{\\|\\Delta A\\|}{\\|A\\|}} \\left( \\frac{\\|\\Delta b\\|}{\\|b\\|} + \\frac{\\|\\Delta A\\|}{\\|A\\|}\\right).$$\n",
    "\n",
    "> $\\mu=\\|A\\|\\|A^{-1}\\|$ называется числом обусловленности СЛАУ, $\\mu \\geq 1$\n",
    "\n",
    "> Если $A = A^*\\;$ то $\\mu = \\max\\limits_{i}|\\lambda_i|/\\min\\limits_{i}|\\lambda_i|$\n",
    "\n",
    "#### Пример плохо обусловленной системы\n",
    "\n",
    "$$\n",
    "\\begin{cases}\n",
    "100x_1 + 99x_2 = 199 \\\\\n",
    "99x_1 + 98x_2 = 197\n",
    "\\end{cases}\n",
    "$$ \n",
    "Точное решение $ x = \\begin{bmatrix} 1 \\\\ 1 \\end{bmatrix} $"
   ]
  },
  {
   "cell_type": "code",
   "execution_count": 2,
   "metadata": {},
   "outputs": [
    {
     "name": "stdout",
     "output_type": "stream",
     "text": [
      "cond_inf(A) = 3.96e+04\n"
     ]
    }
   ],
   "source": [
    "import numpy as np\n",
    "A = np.array([[100, 99],\n",
    "              [ 99, 98]])\n",
    "print('cond_inf(A) = {0:5.2e}'.format(np.linalg.cond(A, np.inf)))"
   ]
  },
  {
   "cell_type": "code",
   "execution_count": 3,
   "metadata": {},
   "outputs": [
    {
     "name": "stdout",
     "output_type": "stream",
     "text": [
      "[ 2.97 -0.99]\n"
     ]
    }
   ],
   "source": [
    "# Возмущенная правая часть\n",
    "eps = 1e-2\n",
    "b = np.array([199 - eps, 197 + eps])\n",
    "x = np.linalg.solve(A, b)\n",
    "print(x)"
   ]
  },
  {
   "cell_type": "markdown",
   "metadata": {},
   "source": [
    "$$\\delta x = \\frac{\\|\\Delta x\\|}{\\|x\\|} \\leq \\mu \\frac{\\|\\Delta b\\|}{\\|b\\|} \\approx 4 \\cdot 10^4 \\cdot \\frac{ 10^{-4} }{ 2 } = 2 $$"
   ]
  }
 ],
 "metadata": {
  "kernelspec": {
   "display_name": "base",
   "language": "python",
   "name": "python3"
  },
  "language_info": {
   "codemirror_mode": {
    "name": "ipython",
    "version": 3
   },
   "file_extension": ".py",
   "mimetype": "text/x-python",
   "name": "python",
   "nbconvert_exporter": "python",
   "pygments_lexer": "ipython3",
   "version": "3.7.0"
  }
 },
 "nbformat": 4,
 "nbformat_minor": 2
}
