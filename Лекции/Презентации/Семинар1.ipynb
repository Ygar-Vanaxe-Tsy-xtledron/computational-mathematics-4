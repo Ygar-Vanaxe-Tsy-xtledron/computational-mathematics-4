{
 "cells": [
  {
   "cell_type": "markdown",
   "metadata": {},
   "source": [
    "- **Песня Евгений Александрович**\n",
    "- pesnya.ea@phystech.edu\n",
    "- tg: @epesnya"
   ]
  },
  {
   "cell_type": "markdown",
   "metadata": {},
   "source": [
    "# Вычислительная математика\n",
    "## Введение\n",
    "Раздел математики, позволяющий решать задачи не имеющие аналитического решения с применением вычислительной техники. Формально теория численных методов решения типовых математических задач.\n",
    "\n",
    "На данный момент все научно-технические задачи решаются с использованием средств вычислительной математики.\n",
    "\n",
    "Для эффективного и правильного использования методов математического моделирования необходимо понимать принципы данного инструмента."
   ]
  },
  {
   "cell_type": "markdown",
   "metadata": {},
   "source": [
    "### Области приложения\n",
    "- Математическое моделирование\n",
    "    - Физика\n",
    "    - Химия \n",
    "    - Биология\n",
    "    - Экономика\n",
    "    - ...\n",
    "- Метматическая статистика\n",
    "- Анализ данных, машинное обучение\n",
    "- Обработка сигналов и изображений\n",
    "<br>и т.д.\n",
    "\n",
    "Популярные реализации\n",
    "\n",
    "<p align=\"center\">\n",
    "<img src=\"Ansys_logo_(2019).svg\" alt=\"Ansys\" width=\"100\"/>&nbsp;&nbsp;&nbsp;&nbsp;<img src=\"Comsol_logo.svg\" alt=\"Comsol\" width=\"200\"/>\n",
    "</p>\n",
    "\n",
    "<p align=\"center\">\n",
    "<img src=\"Matlab_Logo.png\" alt=\"Matlab\" width=\"80\"/>&nbsp;&nbsp;&nbsp;&nbsp;<img src=\"Scipylogo.png\" alt=\"SciPy\" width=\"150\"/>&nbsp;&nbsp;&nbsp;&nbsp;<img src=\"Pytorch_logo.png\" alt=\"Pytorch\" width=\"150\"/>\n",
    "</p>\n",
    "\n",
    "<p align=\"center\">\n",
    "<img src=\"Mfem-logo-300.png\" alt=\"Mfem\" width=\"70\"/>&nbsp;&nbsp;&nbsp;&nbsp;<img src=\"OpenFOAM_logo.svg\" alt=\"OpenFOAM\" width=\"150\"/>\n",
    "</p>\n"
   ]
  },
  {
   "cell_type": "markdown",
   "metadata": {},
   "source": [
    "### Примеры задач\n",
    "- Вычисление стандартных функций\n",
    "$$\n",
    "    \\sqrt{x}, \\; sin(x), \\;  1/x\n",
    "$$\n",
    "- Нахождение производных и интегралов\n",
    "$$ f'(x), \\; \\int_{a}^{b} f(x) \\,dx $$\n",
    "- Решение нелинейных уравнений\n",
    "$ f(x)=0 $\n",
    "- Решение линейных систем $ Ax = b$\n",
    "- Вычисление собственных чисел $ Av= \\lambda v$\n",
    "- Поиск экстремума функционала $ F(\\vec{x}) \\rightarrow min $\n",
    "- Решение нелинейных ОДУ\n",
    "$$ u'(t) = f(t, u) $$\n",
    "- Решение уравнений в чатсных производных\n",
    "$$ \\Delta u(x, y) = f(x, y) $$ "
   ]
  },
  {
   "cell_type": "markdown",
   "metadata": {},
   "source": [
    "### План курса\n",
    "1. Погрешности вычислений\n",
    "2. Вычислительная линейная алгебра\n",
    "3. Численное решение нелинейных уравнений и систем\n",
    "4. Теория аппроксимации и интерполяции функций\n",
    "5. Численное интегрирование\n",
    "6. Введение в методы машинного обучения\n",
    "7. Численные методы решения ОДУ"
   ]
  },
  {
   "cell_type": "markdown",
   "metadata": {},
   "source": [
    "### Система оценивания\n",
    "- Домашнее задание 1: 2.5\n",
    "- Контрольная работа 1: 2.5\n",
    "- Домашнее задание 2: 2.5\n",
    "- Контрольная работа 2: 2.5\n",
    "\n",
    "- Лабораторные работы "
   ]
  },
  {
   "cell_type": "markdown",
   "metadata": {},
   "source": [
    "### Особенности вычислительной математики\n",
    "- дискретизация области интегрирования:\n",
    "\n",
    "<p align=\"center\">\n",
    "<img src=\"discr.png\" alt=\"Discrete\" width=\"300\"/>\n",
    "</p>\n",
    "\n",
    "$$ \\{x_n = h \\cdot n,\\; n = 0, 1,...,N\\} $$\n",
    "\n",
    "- работа с числами с ограниченным количеством знаков после запятой, т.е. в расчетах всегда присутствует погрешность (машинная ошибка)\n",
    "- устойчивость вычислительного алгоритма\n",
    "- обусловленность задачи, т.е. чувствительность ее решения по отношению к малым возмущениям входных данных\n",
    "- экономичность вычислительного алгоритма; одна и та же задача может быть решена несколькими методами\n",
    "- выбор численного метода влияет на точность полученного решения задачи\n"
   ]
  },
  {
   "cell_type": "markdown",
   "metadata": {},
   "source": [
    "### Погрешности вычислений\n",
    "\n",
    "Определения\n",
    "\n",
    "Пусть $a$ - точное значение некоторой величины,\n",
    "$a^*$ - ее приближенное значение\n",
    "\n",
    "**Абсолютная погрешность**: $\\quad |a^* - a| \\leq \\Delta(a^*) $\n",
    "\n",
    "**Относительная погрешность**: $\\quad | \\frac{a^* - a}{a^*} | \\leq \\delta(a^*) $"
   ]
  },
  {
   "cell_type": "markdown",
   "metadata": {},
   "source": [
    "Если ответ можно дать с любой точностью, то погрешность отсутствует. Но обычно ответ удается найти лишь приближенно. Погрешность\n",
    "задачи делится на три типа:\n"
   ]
  },
  {
   "cell_type": "markdown",
   "metadata": {},
   "source": [
    "1. ***Неустранимая погрешность*** при задании входных данных\n",
    "2. ***Погрешность метода вычислений*** \n",
    "3. ***Погрешность округления*** при вычислении на компьютере"
   ]
  },
  {
   "cell_type": "markdown",
   "metadata": {},
   "source": [
    "### Пример: Задача численного дифференцирования\n",
    "Пусть задана функция $f(x)$\n",
    "\n",
    "Необходимо вычислить ее первую производную в некоторой точке x\n",
    "\n",
    "$$ f'(x) = \\lim_{dx \\to 0}\\dfrac{f(x+dx)-f(x)}{dx} \\approx \\dfrac{f(x+h)-f(x)}{h} $$"
   ]
  },
  {
   "cell_type": "markdown",
   "metadata": {},
   "source": [
    "Погрешность метода\n",
    "$$ \\Delta_1 = \\left| f'(x) − \\frac{f(x+h)−f(x)}{h} \\right| = \\left|𝑓'(𝑥)−\\frac{𝑓(𝑥)+𝑓^′(𝑥)ℎ+𝑓''(\\xi)ℎ^2/2 − 𝑓(𝑥)}{ℎ}\\right| = $$\n",
    "$$ = \\left| \\frac{𝑓''(\\xi)ℎ}{2} \\right| \\leq \\frac{M_2 h}{2}, \\quad M_2 = \\max_{x}|𝑓''(\\xi)|$$"
   ]
  },
  {
   "cell_type": "markdown",
   "metadata": {},
   "source": [
    "Погрешность округления\n",
    "\n",
    "> На компютере при хранении числа с плавоющей точкой происходит округление до ближайшего машинного числа\n",
    ">\n",
    "> Относительная ошибка округления $\\left|\\frac{a - a_M}{a_M}\\right| \\leq \\epsilon $ – ***машинное эпсилон***\n",
    ">\n",
    "> Также $1 + \\epsilon = 1$"
   ]
  },
  {
   "cell_type": "code",
   "execution_count": 1,
   "metadata": {},
   "outputs": [],
   "source": [
    "%matplotlib inline\n",
    "import numpy as np\n",
    "import matplotlib\n",
    "from matplotlib import pyplot as plt\n",
    "matplotlib.rcParams.update({'font.size': 14})"
   ]
  },
  {
   "cell_type": "code",
   "execution_count": 2,
   "metadata": {},
   "outputs": [
    {
     "name": "stdout",
     "output_type": "stream",
     "text": [
      "1.0000001\n",
      "1.0\n"
     ]
    }
   ],
   "source": [
    "a = np.float32(1.0)\n",
    "b = np.float32(2**(-23))\n",
    "c = np.float32()\n",
    "c = a + b\n",
    "print(c)\n",
    "\n",
    "a = np.float32(1.0)\n",
    "b = np.float32(2**(-24))\n",
    "c = np.float32()\n",
    "c = a + b\n",
    "print(c)"
   ]
  },
  {
   "cell_type": "code",
   "execution_count": 3,
   "metadata": {},
   "outputs": [
    {
     "name": "stdout",
     "output_type": "stream",
     "text": [
      "1.0000000000000002\n",
      "1.0\n"
     ]
    }
   ],
   "source": [
    "a = np.float64(1.0)\n",
    "b = np.float64(2**(-52))\n",
    "c = np.float64()\n",
    "c = a + b\n",
    "print(c)\n",
    "\n",
    "a = np.float64(1.0)\n",
    "b = np.float64(2**(-53))\n",
    "c = np.float64()\n",
    "c = a + b\n",
    "print(c)"
   ]
  },
  {
   "cell_type": "markdown",
   "metadata": {},
   "source": [
    "Погрешность округления\n",
    "$$ \\Delta_1 = \\left|\\frac{f(x+h)\\delta_1−f(x)\\delta_2}{h} \\right| \\leq \\frac{2M_0\\epsilon}{h}, \\quad M_0 = \\max_{x}|𝑓(\\xi)| $$"
   ]
  },
  {
   "cell_type": "markdown",
   "metadata": {},
   "source": [
    "Итоговая оценка\n",
    "$$ \\Delta \\leq E(h) = \\frac{M_2 h}{2} + \\frac{2M_0\\epsilon}{h} \\rightarrow min $$\n",
    "$$ \\frac{dE(h)}{dh} = 0, \\quad h_{опт} = 2 \\sqrt{\\frac{M_0\\epsilon}{M_2}} $$\n",
    "$$ \\Delta \\leq 2 \\sqrt{M_0M_2\\epsilon} $$"
   ]
  },
  {
   "cell_type": "code",
   "execution_count": 4,
   "metadata": {},
   "outputs": [
    {
     "name": "stderr",
     "output_type": "stream",
     "text": [
      "/home/epesnya/programs/anaconda3/lib/python3.7/site-packages/matplotlib/cbook/deprecation.py:107: MatplotlibDeprecationWarning: Passing one of 'on', 'true', 'off', 'false' as a boolean is deprecated; use an actual boolean (True/False) instead.\n",
      "  warnings.warn(message, mplDeprecation, stacklevel=1)\n"
     ]
    },
    {
     "data": {
      "image/png": "[encoded data removed]",
      "text/plain": [
       "<Figure size 432x288 with 1 Axes>"
      ]
     },
     "metadata": {
      "needs_background": "light"
     },
     "output_type": "display_data"
    }
   ],
   "source": [
    "# Функция f\n",
    "f =  lambda x: np.sin(x)\n",
    "# Функция f'\n",
    "df = lambda x: np.cos(x)\n",
    "# Точка, в которой вычисляется приближенное значение\n",
    "x0 = np.pi/3\n",
    "# Сколько раз начальный шаг уменьшается вдвое\n",
    "n = 50\n",
    "# Самый большой шаг\n",
    "h0 = 1e-1\n",
    "# Массив шагов\n",
    "h = h0 / 2.0**np.arange(n)\n",
    "# Массив приближенных значений производной\n",
    "df_appr = (f(x0 + h) - f(x0)) / h\n",
    "\n",
    "plt.loglog(h, np.abs(df_appr - df(x0)), 'ko-')\n",
    "plt.xlabel('h')\n",
    "plt.ylabel('E', rotation = 0)\n",
    "plt.grid('On')"
   ]
  },
  {
   "cell_type": "markdown",
   "metadata": {},
   "source": [
    "### Общий вид\n",
    "\n",
    "Пусть задана равномерная сетка $ \\{x_j = h \\cdot j,\\; j = 0, 1,...,N\\} $\n",
    "\n",
    "$$ f'(x_j) \\approx \\frac{1}{h} \\sum_{k=-l}^{m} \\alpha_k f(x_j + kh) $$\n",
    "\n",
    "$$ f''(x_j) \\approx \\frac{1}{h^2} \\sum_{k=-l}^{m} \\alpha_k f(x_j + kh) $$\n",
    "\n",
    "Совокупность точек ${x_{-l}, ..., x_m}$ используемых в методе называют сеточным шаблоном.\n",
    "\n",
    "На сеточном шаблоне, включающем в себя $1+l+m$ точек, для вычисления производной порядка $p \\leq N$ ($N=l+m$) с погрешностью не хуже $O(h^{N-p})$ существует единственный набор $\\alpha_k$."
   ]
  },
  {
   "cell_type": "markdown",
   "metadata": {},
   "source": [
    "## Обусловленность задачи\n",
    "\n",
    "Рассмотрим алгебраическое уравнение \n",
    "\n",
    "$$ x^4 - 8x^3 + 24x^2 - 32x + 15.99999999 = (x-2)^4 - 10^{-8} = 0 $$\n",
    "\n",
    "Точное решение \n",
    "\n",
    "$$ (x - 2)^2 = \\pm 10^{-4}$$\n",
    "$$ x_1 = 2.01; \\; x_2 = 1.99; \\; x_{3,4} = 2 \\pm 0.01i $$\n"
   ]
  },
  {
   "cell_type": "code",
   "execution_count": 5,
   "metadata": {},
   "outputs": [
    {
     "data": {
      "text/plain": [
       "16.0"
      ]
     },
     "execution_count": 5,
     "metadata": {},
     "output_type": "execute_result"
    }
   ],
   "source": [
    "np.float32(15.99999999)"
   ]
  },
  {
   "cell_type": "markdown",
   "metadata": {},
   "source": [
    "$\\epsilon > 10^{-8} \\; : \\;$ округление $15.99999999 \\rightarrow 16.0 $\n",
    "\n",
    "Будет решаться уравнение $ (x - 2)^4 = 0 $\n",
    "\n",
    "$ x_{1,2,3,4}^* = 2 \\quad \\Rightarrow \\quad \\delta(x^*) \\approx 10^{-2}$ вне зависимости от метода вычисления\n",
    "\n",
    " "
   ]
  },
  {
   "cell_type": "markdown",
   "metadata": {},
   "source": [
    "Задачи, в которых малые измения праметров задачи или начальных данных приводят к большим измененим в решении, будем называть **плохо обусловленными**.\n",
    "\n",
    "Далее, для определеных типов задач, будут даны строгие критерии для оценки обусловленности."
   ]
  },
  {
   "cell_type": "markdown",
   "metadata": {},
   "source": [
    "## Литература\n",
    "\n",
    "1. Петров И. Б. *Конспекты лекций по вычислительной математике.*\n",
    "2. Лобанов А. И., Петров И. Б. *Вычислительная математика. Курс лекций*: Учеб. пособие.\n",
    "3. Аристова Е. Н., Завьялова Н. А., Лобанов А. И. *Практические занятия по вычислительной математике в МФТИ. Ч. 1*. Изд. 2-е, испр. и дополн. : учеб. пособие."
   ]
  }
 ],
 "metadata": {
  "kernelspec": {
   "display_name": "Python 3",
   "language": "python",
   "name": "python3"
  },
  "language_info": {
   "codemirror_mode": {
    "name": "ipython",
    "version": 3
   },
   "file_extension": ".py",
   "mimetype": "text/x-python",
   "name": "python",
   "nbconvert_exporter": "python",
   "pygments_lexer": "ipython3",
   "version": "3.7.0"
  }
 },
 "nbformat": 4,
 "nbformat_minor": 2
}
